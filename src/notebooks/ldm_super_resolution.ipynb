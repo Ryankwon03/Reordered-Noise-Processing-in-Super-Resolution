{
 "cells": [
  {
   "cell_type": "code",
   "execution_count": null,
   "metadata": {},
   "outputs": [],
   "source": [
    "!pip install git+https://github.com/huggingface/diffusers.git"
   ]
  },
  {
   "cell_type": "code",
   "execution_count": null,
   "metadata": {},
   "outputs": [],
   "source": [
    "import requests\n",
    "from PIL import Image\n",
    "from io import BytesIO\n",
    "from diffusers import LDMSuperResolutionPipeline\n",
    "import torch"
   ]
  },
  {
   "cell_type": "code",
   "execution_count": null,
   "metadata": {},
   "outputs": [],
   "source": [
    "device = \"cuda\" if torch.cuda.is_available() else \"cpu\"\n",
    "model_id = \"CompVis/ldm-super-resolution-4x-openimages\"\n",
    "\n",
    "# load model and scheduler\n",
    "pipeline = LDMSuperResolutionPipeline.from_pretrained(model_id)\n",
    "pipeline = pipeline.to(device)\n",
    "\n",
    "# let's download an  image\n",
    "url = \"https://user-images.githubusercontent.com/38061659/199705896-b48e17b8-b231-47cd-a270-4ffa5a93fa3e.png\"\n",
    "response = requests.get(url)\n",
    "low_res_img = Image.open(BytesIO(response.content)).convert(\"RGB\")\n",
    "low_res_img = low_res_img.resize((128, 128))\n",
    "\n",
    "# run pipeline in inference (sample random noise and denoise)\n",
    "upscaled_image = pipeline(low_res_img, num_inference_steps=100, eta=1).images[0]\n",
    "# save image\n",
    "upscaled_image.save(\"ldm_generated_image.png\")"
   ]
  }
 ],
 "metadata": {
  "kernelspec": {
   "display_name": "Python 3",
   "language": "python",
   "name": "python3"
  },
  "language_info": {
   "name": "python",
   "version": "3.9.13"
  }
 },
 "nbformat": 4,
 "nbformat_minor": 2
}
